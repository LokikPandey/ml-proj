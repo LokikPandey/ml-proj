{
 "cells": [
  {
   "cell_type": "code",
   "execution_count": 1,
   "id": "a340d18a",
   "metadata": {},
   "outputs": [],
   "source": [
    "import nltk\n",
    "\n",
    "from gensim.models import Word2Vec\n",
    "from nltk.corpus import stopwords\n",
    "\n",
    "import re"
   ]
  },
  {
   "cell_type": "code",
   "execution_count": 19,
   "id": "275e8775",
   "metadata": {},
   "outputs": [
    {
     "data": {
      "text/plain": [
       "\"Narendra Damodardas Modi (Gujarati: [ˈnəɾendɾə dɑmodəɾˈdɑs ˈmodiː] ⓘ; born 17 September 1950)[b] is an Indian politician who has served as the 14th prime minister of India since May 2014. Modi was the chief minister of Gujarat from 2001 to 2014 and is the Member of Parliament (MP) for Varanasi. He is a member of the Bharatiya Janata Party (BJP) and of the Rashtriya Swayamsevak Sangh (RSS), a right wing Hindu nationalist paramilitary volunteer organisation. He is the longest-serving prime minister from outside the Indian National Congress.\\n\\nModi was born and raised in Vadnagar in northeastern Gujarat, where he completed his secondary education. He was introduced to the RSS at the age of eight. His account of helping his father sell tea at the Vadnagar railway station has not been reliably corroborated. At age 18, he was married to Jashodaben Modi, whom he abandoned soon after, only publicly acknowledging her four decades later when legally required to do so. Modi became a full-time worker for the RSS in Gujarat in 1971. The RSS assigned him to the BJP in 1985 and he held several positions within the party hierarchy until 2001, rising to the rank of general secretary.[c]\\n\\nIn 2001, Modi was appointed Chief Minister of Gujarat and elected to the legislative assembly soon after. His administration is considered complicit in the 2002 Gujarat riots,[d] and has been criticised for its management of the crisis. A little over 1,000 people were killed, according to official records, three-quarters of whom were Muslim; independent sources estimated 2,000 deaths, mostly Muslim.[11] A Special Investigation Team appointed by the Supreme Court of India in 2012 found no evidence to initiate prosecution proceedings against him.[e] While his policies as chief minister, which were credited for encouraging economic growth, were praised, Modi's administration was criticised for failing to significantly improve health, poverty and education indices in the state.[f] In the 2014 Indian general election, Modi led the BJP to a parliamentary majority, the first for a party since 1984. His administration increased direct foreign investment, and it reduced spending on healthcare, education, and social-welfare programmes. Modi began a high-profile sanitation campaign, controversially initiated the 2016 demonetisation of high-denomination banknotes and introduced the Goods and Services Tax, and weakened or abolished environmental and labour laws.\\n\\nModi's administration launched the 2019 Balakot airstrike against an alleged terrorist training camp in Pakistan. The airstrike failed,[14][15] and the deaths of six Indian personnel to friendly fire was later revealed: but the action had nationalist appeal.[16] Modi's party comfortably won the 2019 general election which followed.[17] In its second term, his administration revoked the special status of Jammu and Kashmir, an Indian-administered portion of the disputed Kashmir region,[18][19] and introduced the Citizenship Amendment Act, prompting widespread protests, and spurring the 2020 Delhi riots in which Muslims were brutalised and killed by Hindu mobs,[20][21][22] sometimes with the complicity of police forces controlled by the Modi administration.[23][24] Three controversial farm laws led to sit-ins by farmers across the country, eventually causing their formal repeal. Modi oversaw India's response to the COVID-19 pandemic, during which 4.7 million Indians died, according to the World Health Organization's estimates.[25][26]\\n\\nUnder Modi's tenure, India has experienced democratic backsliding, or the weakening of democratic institutions, individual rights, and freedom of expression.[27][28][g] As prime minister, he has received consistently high approval ratings.[34][35][36] Modi has been described as engineering a political realignment towards right-wing politics. He remains a controversial figure domestically and internationally, over his Hindu nationalist beliefs and handling of the Gujarat riots, which have been cited as evidence of a majoritarian and exclusionary social agenda.[h]\""
      ]
     },
     "execution_count": 19,
     "metadata": {},
     "output_type": "execute_result"
    }
   ],
   "source": [
    "para = \"\"\"Narendra Damodardas Modi (Gujarati: [ˈnəɾendɾə dɑmodəɾˈdɑs ˈmodiː] ⓘ; born 17 September 1950)[b] is an Indian politician who has served as the 14th prime minister of India since May 2014. Modi was the chief minister of Gujarat from 2001 to 2014 and is the Member of Parliament (MP) for Varanasi. He is a member of the Bharatiya Janata Party (BJP) and of the Rashtriya Swayamsevak Sangh (RSS), a right wing Hindu nationalist paramilitary volunteer organisation. He is the longest-serving prime minister from outside the Indian National Congress.\n",
    "\n",
    "Modi was born and raised in Vadnagar in northeastern Gujarat, where he completed his secondary education. He was introduced to the RSS at the age of eight. His account of helping his father sell tea at the Vadnagar railway station has not been reliably corroborated. At age 18, he was married to Jashodaben Modi, whom he abandoned soon after, only publicly acknowledging her four decades later when legally required to do so. Modi became a full-time worker for the RSS in Gujarat in 1971. The RSS assigned him to the BJP in 1985 and he held several positions within the party hierarchy until 2001, rising to the rank of general secretary.[c]\n",
    "\n",
    "In 2001, Modi was appointed Chief Minister of Gujarat and elected to the legislative assembly soon after. His administration is considered complicit in the 2002 Gujarat riots,[d] and has been criticised for its management of the crisis. A little over 1,000 people were killed, according to official records, three-quarters of whom were Muslim; independent sources estimated 2,000 deaths, mostly Muslim.[11] A Special Investigation Team appointed by the Supreme Court of India in 2012 found no evidence to initiate prosecution proceedings against him.[e] While his policies as chief minister, which were credited for encouraging economic growth, were praised, Modi's administration was criticised for failing to significantly improve health, poverty and education indices in the state.[f] In the 2014 Indian general election, Modi led the BJP to a parliamentary majority, the first for a party since 1984. His administration increased direct foreign investment, and it reduced spending on healthcare, education, and social-welfare programmes. Modi began a high-profile sanitation campaign, controversially initiated the 2016 demonetisation of high-denomination banknotes and introduced the Goods and Services Tax, and weakened or abolished environmental and labour laws.\n",
    "\n",
    "Modi's administration launched the 2019 Balakot airstrike against an alleged terrorist training camp in Pakistan. The airstrike failed,[14][15] and the deaths of six Indian personnel to friendly fire was later revealed: but the action had nationalist appeal.[16] Modi's party comfortably won the 2019 general election which followed.[17] In its second term, his administration revoked the special status of Jammu and Kashmir, an Indian-administered portion of the disputed Kashmir region,[18][19] and introduced the Citizenship Amendment Act, prompting widespread protests, and spurring the 2020 Delhi riots in which Muslims were brutalised and killed by Hindu mobs,[20][21][22] sometimes with the complicity of police forces controlled by the Modi administration.[23][24] Three controversial farm laws led to sit-ins by farmers across the country, eventually causing their formal repeal. Modi oversaw India's response to the COVID-19 pandemic, during which 4.7 million Indians died, according to the World Health Organization's estimates.[25][26]\n",
    "\n",
    "Under Modi's tenure, India has experienced democratic backsliding, or the weakening of democratic institutions, individual rights, and freedom of expression.[27][28][g] As prime minister, he has received consistently high approval ratings.[34][35][36] Modi has been described as engineering a political realignment towards right-wing politics. He remains a controversial figure domestically and internationally, over his Hindu nationalist beliefs and handling of the Gujarat riots, which have been cited as evidence of a majoritarian and exclusionary social agenda.[h]\"\"\"\n",
    "\n",
    "para"
   ]
  },
  {
   "cell_type": "code",
   "execution_count": 30,
   "id": "cc7f4c36",
   "metadata": {},
   "outputs": [
    {
     "data": {
      "text/plain": [
       "'narendra damodardas modi gujarati n end d mod d s modi born september b is an indian politician who has served as the th prime minister of india since may . modi was the chief minister of gujarat from to and is the member of parliament mp for varanasi. he is a member of the bharatiya janata party bjp and of the rashtriya swayamsevak sangh rss a right wing hindu nationalist paramilitary volunteer organisation. he is the longest serving prime minister from outside the indian national congress. modi was born and raised in vadnagar in northeastern gujarat where he completed his secondary education. he was introduced to the rss at the age of eight. his account of helping his father sell tea at the vadnagar railway station has not been reliably corroborated. at age he was married to jashodaben modi whom he abandoned soon after only publicly acknowledging her four decades later when legally required to do so. modi became a full time worker for the rss in gujarat in . the rss assigned him to the bjp in and he held several positions within the party hierarchy until rising to the rank of general secretary. c in modi was appointed chief minister of gujarat and elected to the legislative assembly soon after. his administration is considered complicit in the gujarat riots d and has been criticised for its management of the crisis. a little over people were killed according to official records three quarters of whom were muslim independent sources estimated deaths mostly muslim. a special investigation team appointed by the supreme court of india in found no evidence to initiate prosecution proceedings against him. e while his policies as chief minister which were credited for encouraging economic growth were praised modi s administration was criticised for failing to significantly improve health poverty and education indices in the state. f in the indian general election modi led the bjp to a parliamentary majority the first for a party since . his administration increased direct foreign investment and it reduced spending on healthcare education and social welfare programmes. modi began a high profile sanitation campaign controversially initiated the demonetisation of high denomination banknotes and introduced the goods and services tax and weakened or abolished environmental and labour laws. modi s administration launched the balakot airstrike against an alleged terrorist training camp in pakistan. the airstrike failed and the deaths of six indian personnel to friendly fire was later revealed but the action had nationalist appeal. modi s party comfortably won the general election which followed. in its second term his administration revoked the special status of jammu and kashmir an indian administered portion of the disputed kashmir region and introduced the citizenship amendment act prompting widespread protests and spurring the delhi riots in which muslims were brutalised and killed by hindu mobs sometimes with the complicity of police forces controlled by the modi administration. three controversial farm laws led to sit ins by farmers across the country eventually causing their formal repeal. modi oversaw india s response to the covid pandemic during which . million indians died according to the world health organization s estimates. under modi s tenure india has experienced democratic backsliding or the weakening of democratic institutions individual rights and freedom of expression. g as prime minister he has received consistently high approval ratings. modi has been described as engineering a political realignment towards right wing politics. he remains a controversial figure domestically and internationally over his hindu nationalist beliefs and handling of the gujarat riots which have been cited as evidence of a majoritarian and exclusionary social agenda. h '"
      ]
     },
     "execution_count": 30,
     "metadata": {},
     "output_type": "execute_result"
    }
   ],
   "source": [
    "#preprocessing of data\n",
    "text = re.sub('[0-9]',' ',para)\n",
    "text = text.lower()\n",
    "#text = re.sub(r'\\d',' ',text)\n",
    "text = re.sub('[^a-zA-Z.]',' ',text)\n",
    "text = re.sub(r'\\s+',' ',text)\n",
    "text"
   ]
  },
  {
   "cell_type": "code",
   "execution_count": 31,
   "id": "638dc10c",
   "metadata": {},
   "outputs": [],
   "source": [
    "sent = nltk.sent_tokenize(text)\n",
    "sent = [nltk.word_tokenize(s) for s in sent]\n",
    "\n",
    "for i in range(len(sent)):\n",
    "    sent[i]=[word for word in sent[i] if word not in stopwords.words('english')]\n",
    "    "
   ]
  },
  {
   "cell_type": "code",
   "execution_count": 32,
   "id": "84b16ccc",
   "metadata": {},
   "outputs": [
    {
     "data": {
      "text/plain": [
       "['narendra',\n",
       " 'damodardas',\n",
       " 'modi',\n",
       " 'gujarati',\n",
       " 'n',\n",
       " 'end',\n",
       " 'mod',\n",
       " 'modi',\n",
       " 'born',\n",
       " 'september',\n",
       " 'b',\n",
       " 'indian',\n",
       " 'politician',\n",
       " 'served',\n",
       " 'th',\n",
       " 'prime',\n",
       " 'minister',\n",
       " 'india',\n",
       " 'since',\n",
       " 'may',\n",
       " '.']"
      ]
     },
     "execution_count": 32,
     "metadata": {},
     "output_type": "execute_result"
    }
   ],
   "source": [
    "sent[0]"
   ]
  },
  {
   "cell_type": "code",
   "execution_count": 33,
   "id": "d631fe08",
   "metadata": {},
   "outputs": [],
   "source": [
    "#train model\n",
    "model = Word2Vec(sent,min_count=1)\n",
    "words = list(model.wv.index_to_key)"
   ]
  },
  {
   "cell_type": "code",
   "execution_count": 40,
   "id": "d49314f5",
   "metadata": {},
   "outputs": [
    {
     "data": {
      "text/plain": [
       "array([-0.00287968, -0.00701652, -0.00150151, -0.00939092, -0.00810934,\n",
       "        0.00609732, -0.00945955, -0.00499842,  0.00159928,  0.00891357,\n",
       "       -0.00901224, -0.0040065 ,  0.00151007,  0.00056729,  0.0054887 ,\n",
       "        0.00654904, -0.00349637,  0.00232021, -0.0039965 , -0.00319523,\n",
       "       -0.00214274, -0.00696274, -0.00419021,  0.00189237,  0.00191834,\n",
       "       -0.00416054, -0.0095534 ,  0.00108658,  0.00514908,  0.00512322,\n",
       "        0.00010507,  0.00732703,  0.00572228, -0.00283137, -0.00118277,\n",
       "       -0.00296219,  0.00824036, -0.007053  ,  0.00869458, -0.00792682,\n",
       "       -0.00675214, -0.00701013, -0.00355344,  0.00064127, -0.00851587,\n",
       "       -0.00231594,  0.00214177,  0.00156822, -0.00350648, -0.00414467,\n",
       "        0.0040713 , -0.00739752,  0.0079013 , -0.00219963,  0.00947277,\n",
       "        0.00959415,  0.00889547, -0.00477506, -0.00542589, -0.00559553,\n",
       "       -0.00932838,  0.00701114, -0.00518132,  0.00696278, -0.00857245,\n",
       "        0.00511682,  0.00828264, -0.00674928,  0.0009955 ,  0.00564004,\n",
       "       -0.00237147,  0.00193154, -0.00408474,  0.00143427, -0.00526741,\n",
       "        0.00861862, -0.00608946,  0.00725926,  0.00888134, -0.00905179,\n",
       "       -0.00556259, -0.00514511,  0.00421405,  0.00701355,  0.00290123,\n",
       "       -0.00100845, -0.00911496, -0.00627949, -0.00262202, -0.00673454,\n",
       "        0.00379323,  0.00824859,  0.00933896, -0.00579513,  0.00901464,\n",
       "       -0.00547197,  0.00788171, -0.00468024,  0.0034056 , -0.00102608],\n",
       "      dtype=float32)"
      ]
     },
     "execution_count": 40,
     "metadata": {},
     "output_type": "execute_result"
    }
   ],
   "source": [
    "v = model.wv['narendra']\n",
    "v"
   ]
  },
  {
   "cell_type": "code",
   "execution_count": 41,
   "id": "935bd4c7",
   "metadata": {},
   "outputs": [
    {
     "data": {
      "text/plain": [
       "[('janata', 0.32721200585365295),\n",
       " ('found', 0.2745199203491211),\n",
       " ('failed', 0.26516193151474),\n",
       " ('spending', 0.23417574167251587),\n",
       " ('mp', 0.22433143854141235),\n",
       " ('worker', 0.20813564956188202),\n",
       " ('rashtriya', 0.20293420553207397),\n",
       " ('damodardas', 0.19465145468711853),\n",
       " ('chief', 0.1804674118757248),\n",
       " ('administration', 0.17197519540786743)]"
      ]
     },
     "execution_count": 41,
     "metadata": {},
     "output_type": "execute_result"
    }
   ],
   "source": [
    "s = model.wv.most_similar('narendra')\n",
    "s"
   ]
  },
  {
   "cell_type": "code",
   "execution_count": null,
   "id": "0119475d",
   "metadata": {},
   "outputs": [],
   "source": []
  }
 ],
 "metadata": {
  "kernelspec": {
   "display_name": "Python 3",
   "language": "python",
   "name": "python3"
  },
  "language_info": {
   "codemirror_mode": {
    "name": "ipython",
    "version": 3
   },
   "file_extension": ".py",
   "mimetype": "text/x-python",
   "name": "python",
   "nbconvert_exporter": "python",
   "pygments_lexer": "ipython3",
   "version": "3.8.8"
  }
 },
 "nbformat": 4,
 "nbformat_minor": 5
}
